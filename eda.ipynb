{
 "cells": [
  {
   "cell_type": "code",
   "execution_count": 15,
   "metadata": {},
   "outputs": [],
   "source": [
    "import numpy as np\n",
    "import pandas as pd\n",
    "import plotly.express as px\n",
    "from scipy import stats\n",
    "from plotly.subplots import make_subplots\n",
    "from matplotlib import pyplot as plt\n",
    "import seaborn as sns"
   ]
  },
  {
   "cell_type": "code",
   "execution_count": 16,
   "metadata": {},
   "outputs": [
    {
     "data": {
      "text/html": [
       "<div>\n",
       "<style scoped>\n",
       "    .dataframe tbody tr th:only-of-type {\n",
       "        vertical-align: middle;\n",
       "    }\n",
       "\n",
       "    .dataframe tbody tr th {\n",
       "        vertical-align: top;\n",
       "    }\n",
       "\n",
       "    .dataframe thead th {\n",
       "        text-align: right;\n",
       "    }\n",
       "</style>\n",
       "<table border=\"1\" class=\"dataframe\">\n",
       "  <thead>\n",
       "    <tr style=\"text-align: right;\">\n",
       "      <th></th>\n",
       "      <th>doi</th>\n",
       "      <th>API</th>\n",
       "      <th>cof1</th>\n",
       "      <th>ratio_mole</th>\n",
       "      <th>liquid</th>\n",
       "      <th>liq_amount_mL</th>\n",
       "      <th>mixing_apparatus</th>\n",
       "      <th>mixing_frequency_Hz</th>\n",
       "      <th>mixing_temp_C</th>\n",
       "      <th>mixing_time_min</th>\n",
       "      <th>drying_time_hour</th>\n",
       "      <th>drying_temp_C</th>\n",
       "      <th>text</th>\n",
       "    </tr>\n",
       "  </thead>\n",
       "  <tbody>\n",
       "    <tr>\n",
       "      <th>0</th>\n",
       "      <td>10.1016/j.ejps.2015.05.017</td>\n",
       "      <td>Caffeine</td>\n",
       "      <td>citric acid</td>\n",
       "      <td>4:1</td>\n",
       "      <td>water</td>\n",
       "      <td>0.3</td>\n",
       "      <td>planetary mill (Pulverisette 7; Fritsch GmbH, ...</td>\n",
       "      <td>NaN</td>\n",
       "      <td>NaN</td>\n",
       "      <td>NaN</td>\n",
       "      <td>NaN</td>\n",
       "      <td>NaN</td>\n",
       "      <td>LAG experiments with CF and CTA were performed...</td>\n",
       "    </tr>\n",
       "    <tr>\n",
       "      <th>1</th>\n",
       "      <td>10.1016/j.ejps.2015.05.017</td>\n",
       "      <td>Caffeine</td>\n",
       "      <td>citric acid</td>\n",
       "      <td>3:1</td>\n",
       "      <td>water</td>\n",
       "      <td>0.3</td>\n",
       "      <td>planetary mill (Pulverisette 7; Fritsch GmbH, ...</td>\n",
       "      <td>NaN</td>\n",
       "      <td>NaN</td>\n",
       "      <td>NaN</td>\n",
       "      <td>NaN</td>\n",
       "      <td>NaN</td>\n",
       "      <td>NaN</td>\n",
       "    </tr>\n",
       "    <tr>\n",
       "      <th>2</th>\n",
       "      <td>10.1016/j.ejps.2015.05.017</td>\n",
       "      <td>Caffeine</td>\n",
       "      <td>citric acid</td>\n",
       "      <td>2:1</td>\n",
       "      <td>water</td>\n",
       "      <td>0.3</td>\n",
       "      <td>planetary mill (Pulverisette 7; Fritsch GmbH, ...</td>\n",
       "      <td>NaN</td>\n",
       "      <td>NaN</td>\n",
       "      <td>NaN</td>\n",
       "      <td>NaN</td>\n",
       "      <td>NaN</td>\n",
       "      <td>NaN</td>\n",
       "    </tr>\n",
       "    <tr>\n",
       "      <th>3</th>\n",
       "      <td>10.1016/j.ejps.2015.05.017</td>\n",
       "      <td>Caffeine</td>\n",
       "      <td>citric acid</td>\n",
       "      <td>1:1</td>\n",
       "      <td>water</td>\n",
       "      <td>0.3</td>\n",
       "      <td>planetary mill (Pulverisette 7; Fritsch GmbH, ...</td>\n",
       "      <td>NaN</td>\n",
       "      <td>NaN</td>\n",
       "      <td>NaN</td>\n",
       "      <td>NaN</td>\n",
       "      <td>NaN</td>\n",
       "      <td>NaN</td>\n",
       "    </tr>\n",
       "    <tr>\n",
       "      <th>4</th>\n",
       "      <td>10.1016/j.ejps.2015.05.017</td>\n",
       "      <td>Caffeine</td>\n",
       "      <td>citric acid</td>\n",
       "      <td>1:2</td>\n",
       "      <td>water</td>\n",
       "      <td>0.3</td>\n",
       "      <td>planetary mill (Pulverisette 7; Fritsch GmbH, ...</td>\n",
       "      <td>NaN</td>\n",
       "      <td>NaN</td>\n",
       "      <td>NaN</td>\n",
       "      <td>NaN</td>\n",
       "      <td>NaN</td>\n",
       "      <td>NaN</td>\n",
       "    </tr>\n",
       "  </tbody>\n",
       "</table>\n",
       "</div>"
      ],
      "text/plain": [
       "                          doi        API          cof1 ratio_mole liquid  \\\n",
       "0  10.1016/j.ejps.2015.05.017  Caffeine   citric acid        4:1   water   \n",
       "1  10.1016/j.ejps.2015.05.017  Caffeine   citric acid        3:1   water   \n",
       "2  10.1016/j.ejps.2015.05.017  Caffeine   citric acid        2:1   water   \n",
       "3  10.1016/j.ejps.2015.05.017  Caffeine   citric acid        1:1   water   \n",
       "4  10.1016/j.ejps.2015.05.017  Caffeine   citric acid        1:2   water   \n",
       "\n",
       "   liq_amount_mL                                  mixing_apparatus   \\\n",
       "0            0.3  planetary mill (Pulverisette 7; Fritsch GmbH, ...   \n",
       "1            0.3  planetary mill (Pulverisette 7; Fritsch GmbH, ...   \n",
       "2            0.3  planetary mill (Pulverisette 7; Fritsch GmbH, ...   \n",
       "3            0.3  planetary mill (Pulverisette 7; Fritsch GmbH, ...   \n",
       "4            0.3  planetary mill (Pulverisette 7; Fritsch GmbH, ...   \n",
       "\n",
       "   mixing_frequency_Hz  mixing_temp_C  mixing_time_min  drying_time_hour  \\\n",
       "0                  NaN            NaN              NaN               NaN   \n",
       "1                  NaN            NaN              NaN               NaN   \n",
       "2                  NaN            NaN              NaN               NaN   \n",
       "3                  NaN            NaN              NaN               NaN   \n",
       "4                  NaN            NaN              NaN               NaN   \n",
       "\n",
       "   drying_temp_C                                               text  \n",
       "0            NaN  LAG experiments with CF and CTA were performed...  \n",
       "1            NaN                                                NaN  \n",
       "2            NaN                                                NaN  \n",
       "3            NaN                                                NaN  \n",
       "4            NaN                                                NaN  "
      ]
     },
     "execution_count": 16,
     "metadata": {},
     "output_type": "execute_result"
    }
   ],
   "source": [
    "df = pd.read_csv('lag_data.csv',  delimiter=';')\n",
    "df.head()\n"
   ]
  },
  {
   "cell_type": "markdown",
   "metadata": {},
   "source": [
    "**Описание таблицы:**\n",
    "\n",
    "1. doi статьи\n",
    "2. API - активный фармацевтический компонент\n",
    "3. cof1 - коформер (в процессе сбора информации приняла решение использовать  только двоичные системы)\n",
    "4. ratio, mol - молярное соотношение API к cof1\n",
    "5. liquid - растворитель\n",
    "6. liq_amount_mL - объем растворителя, миллилитры\n",
    "7. mixing apparatus - смешивающий аппарат\n",
    "8. mixing frequency, Hz - частота перемешивания, герц\n",
    "9. mixing temp, C - температура перемешивания, градусы Цельсия\n",
    "10. mixing time, min - время перемешивания, минуты\n",
    "11. drying time, h - время сушки, часы\n",
    "12. drying temp, C - температура сушки, градусы Цельсия\n",
    "13. text - текст методики синтеза"
   ]
  },
  {
   "cell_type": "code",
   "execution_count": 22,
   "metadata": {},
   "outputs": [
    {
     "name": "stdout",
     "output_type": "stream",
     "text": [
      "<class 'pandas.core.frame.DataFrame'>\n",
      "RangeIndex: 120 entries, 0 to 119\n",
      "Data columns (total 13 columns):\n",
      " #   Column               Non-Null Count  Dtype  \n",
      "---  ------               --------------  -----  \n",
      " 0   doi                  119 non-null    object \n",
      " 1   API                  119 non-null    object \n",
      " 2   cof1                 119 non-null    object \n",
      " 3   ratio_mole           119 non-null    object \n",
      " 4   liquid               119 non-null    object \n",
      " 5   liq_amount_mL        47 non-null     float64\n",
      " 6   mixing_apparatus     60 non-null     object \n",
      " 7   mixing_frequency_Hz  20 non-null     float64\n",
      " 8   mixing_temp_C        1 non-null      float64\n",
      " 9   mixing_time_min      71 non-null     float64\n",
      " 10  drying_time_hour     9 non-null      float64\n",
      " 11  drying_temp_C        14 non-null     float64\n",
      " 12  text                 18 non-null     object \n",
      "dtypes: float64(6), object(7)\n",
      "memory usage: 12.3+ KB\n"
     ]
    }
   ],
   "source": [
    "df.info()"
   ]
  },
  {
   "cell_type": "code",
   "execution_count": 23,
   "metadata": {},
   "outputs": [],
   "source": [
    "#Удаляем столбец с текестом методики, в данной работе он не понадобится\n",
    "\n",
    "df = df.drop(columns = ['text'])"
   ]
  },
  {
   "cell_type": "markdown",
   "metadata": {},
   "source": [
    "В нашем датасете много пропусков значений (в статьях не всегда указывается полный необходимый перечень параметров), поэтому заполним пропуски"
   ]
  },
  {
   "cell_type": "code",
   "execution_count": 24,
   "metadata": {},
   "outputs": [
    {
     "data": {
      "text/plain": [
       "doi                      1\n",
       "API                      1\n",
       "cof1                     1\n",
       "ratio_mole               1\n",
       "liquid                   1\n",
       "liq_amount_mL           73\n",
       "mixing_apparatus        60\n",
       "mixing_frequency_Hz    100\n",
       "mixing_temp_C          119\n",
       "mixing_time_min         49\n",
       "drying_time_hour       111\n",
       "drying_temp_C          106\n",
       "dtype: int64"
      ]
     },
     "execution_count": 24,
     "metadata": {},
     "output_type": "execute_result"
    }
   ],
   "source": [
    "#Проверим количество пропусков в каждом столбце\n",
    "\n",
    "df.isna().sum()"
   ]
  },
  {
   "cell_type": "code",
   "execution_count": 25,
   "metadata": {},
   "outputs": [],
   "source": [
    "df = df.dropna(subset=['doi'])"
   ]
  },
  {
   "cell_type": "markdown",
   "metadata": {},
   "source": [
    "В нашем случае, исследователи часто не указывает параметр  если он является СТАНДАРТНЫМ, некоторые из них мы можем заполнить."
   ]
  },
  {
   "cell_type": "code",
   "execution_count": 26,
   "metadata": {},
   "outputs": [],
   "source": [
    "df.fillna({'mixing_temp_C': 20}, inplace=True) #Температуры меняем на стандартные\n",
    "\n",
    "df.fillna({'drying_temp_C': 20}, inplace=True)"
   ]
  },
  {
   "cell_type": "markdown",
   "metadata": {},
   "source": [
    "Нередко в статьях могут указывать объем жидкости в каплях или не указывать вовсе, имея в виду капли, расчет точного объема капли каждого растворителя требует большого количества сложных расчетов, а также является невозможнным, поскольку необходимо учитывать диаметр носика бюретки, который, **естественно**, не пишут"
   ]
  },
  {
   "cell_type": "code",
   "execution_count": 27,
   "metadata": {},
   "outputs": [],
   "source": [
    "df.fillna({'liq_amount_mL': 0.1}, inplace=True) "
   ]
  },
  {
   "cell_type": "code",
   "execution_count": 28,
   "metadata": {},
   "outputs": [],
   "source": [
    "#Ступка и пестик - самый доступный метод измельчения в лаборатории, был бы у них прибор, они бы написали..\n",
    "\n",
    "df['mixing_apparatus '] = df['mixing_apparatus '].fillna('mortar and pestle')"
   ]
  },
  {
   "cell_type": "code",
   "execution_count": 29,
   "metadata": {},
   "outputs": [],
   "source": [
    "df.fillna({'mixing_time_min': df['mixing_time_min'].mean()}, inplace=True)\n",
    "df.fillna({'drying_time_hour': df['drying_time_hour'].mean()}, inplace=True)"
   ]
  },
  {
   "cell_type": "code",
   "execution_count": 30,
   "metadata": {},
   "outputs": [
    {
     "data": {
      "text/html": [
       "<div>\n",
       "<style scoped>\n",
       "    .dataframe tbody tr th:only-of-type {\n",
       "        vertical-align: middle;\n",
       "    }\n",
       "\n",
       "    .dataframe tbody tr th {\n",
       "        vertical-align: top;\n",
       "    }\n",
       "\n",
       "    .dataframe thead th {\n",
       "        text-align: right;\n",
       "    }\n",
       "</style>\n",
       "<table border=\"1\" class=\"dataframe\">\n",
       "  <thead>\n",
       "    <tr style=\"text-align: right;\">\n",
       "      <th></th>\n",
       "      <th>doi</th>\n",
       "      <th>API</th>\n",
       "      <th>cof1</th>\n",
       "      <th>ratio_mole</th>\n",
       "      <th>liquid</th>\n",
       "      <th>liq_amount_mL</th>\n",
       "      <th>mixing_apparatus</th>\n",
       "      <th>mixing_frequency_Hz</th>\n",
       "      <th>mixing_temp_C</th>\n",
       "      <th>mixing_time_min</th>\n",
       "      <th>drying_time_hour</th>\n",
       "      <th>drying_temp_C</th>\n",
       "    </tr>\n",
       "  </thead>\n",
       "  <tbody>\n",
       "    <tr>\n",
       "      <th>0</th>\n",
       "      <td>10.1016/j.ejps.2015.05.017</td>\n",
       "      <td>Caffeine</td>\n",
       "      <td>citric acid</td>\n",
       "      <td>4:1</td>\n",
       "      <td>water</td>\n",
       "      <td>0.3</td>\n",
       "      <td>planetary mill (Pulverisette 7; Fritsch GmbH, ...</td>\n",
       "      <td>39.23</td>\n",
       "      <td>20.0</td>\n",
       "      <td>39.225352</td>\n",
       "      <td>32.222222</td>\n",
       "      <td>20.0</td>\n",
       "    </tr>\n",
       "    <tr>\n",
       "      <th>1</th>\n",
       "      <td>10.1016/j.ejps.2015.05.017</td>\n",
       "      <td>Caffeine</td>\n",
       "      <td>citric acid</td>\n",
       "      <td>3:1</td>\n",
       "      <td>water</td>\n",
       "      <td>0.3</td>\n",
       "      <td>planetary mill (Pulverisette 7; Fritsch GmbH, ...</td>\n",
       "      <td>39.23</td>\n",
       "      <td>20.0</td>\n",
       "      <td>39.225352</td>\n",
       "      <td>32.222222</td>\n",
       "      <td>20.0</td>\n",
       "    </tr>\n",
       "    <tr>\n",
       "      <th>2</th>\n",
       "      <td>10.1016/j.ejps.2015.05.017</td>\n",
       "      <td>Caffeine</td>\n",
       "      <td>citric acid</td>\n",
       "      <td>2:1</td>\n",
       "      <td>water</td>\n",
       "      <td>0.3</td>\n",
       "      <td>planetary mill (Pulverisette 7; Fritsch GmbH, ...</td>\n",
       "      <td>39.23</td>\n",
       "      <td>20.0</td>\n",
       "      <td>39.225352</td>\n",
       "      <td>32.222222</td>\n",
       "      <td>20.0</td>\n",
       "    </tr>\n",
       "    <tr>\n",
       "      <th>3</th>\n",
       "      <td>10.1016/j.ejps.2015.05.017</td>\n",
       "      <td>Caffeine</td>\n",
       "      <td>citric acid</td>\n",
       "      <td>1:1</td>\n",
       "      <td>water</td>\n",
       "      <td>0.3</td>\n",
       "      <td>planetary mill (Pulverisette 7; Fritsch GmbH, ...</td>\n",
       "      <td>39.23</td>\n",
       "      <td>20.0</td>\n",
       "      <td>39.225352</td>\n",
       "      <td>32.222222</td>\n",
       "      <td>20.0</td>\n",
       "    </tr>\n",
       "    <tr>\n",
       "      <th>4</th>\n",
       "      <td>10.1016/j.ejps.2015.05.017</td>\n",
       "      <td>Caffeine</td>\n",
       "      <td>citric acid</td>\n",
       "      <td>1:2</td>\n",
       "      <td>water</td>\n",
       "      <td>0.3</td>\n",
       "      <td>planetary mill (Pulverisette 7; Fritsch GmbH, ...</td>\n",
       "      <td>39.23</td>\n",
       "      <td>20.0</td>\n",
       "      <td>39.225352</td>\n",
       "      <td>32.222222</td>\n",
       "      <td>20.0</td>\n",
       "    </tr>\n",
       "    <tr>\n",
       "      <th>...</th>\n",
       "      <td>...</td>\n",
       "      <td>...</td>\n",
       "      <td>...</td>\n",
       "      <td>...</td>\n",
       "      <td>...</td>\n",
       "      <td>...</td>\n",
       "      <td>...</td>\n",
       "      <td>...</td>\n",
       "      <td>...</td>\n",
       "      <td>...</td>\n",
       "      <td>...</td>\n",
       "      <td>...</td>\n",
       "    </tr>\n",
       "    <tr>\n",
       "      <th>114</th>\n",
       "      <td>https://doi.org/10.1016/j.matpr.2019.03.069</td>\n",
       "      <td>betulin</td>\n",
       "      <td>succinic acid</td>\n",
       "      <td>1:1</td>\n",
       "      <td>dioxan</td>\n",
       "      <td>1.0</td>\n",
       "      <td>mortar and pestle</td>\n",
       "      <td>1.00</td>\n",
       "      <td>20.0</td>\n",
       "      <td>39.225352</td>\n",
       "      <td>32.222222</td>\n",
       "      <td>20.0</td>\n",
       "    </tr>\n",
       "    <tr>\n",
       "      <th>115</th>\n",
       "      <td>https://doi.org/10.1016/j.matpr.2019.03.069</td>\n",
       "      <td>betulin</td>\n",
       "      <td>suberic acid</td>\n",
       "      <td>1:1</td>\n",
       "      <td>dioxan</td>\n",
       "      <td>1.0</td>\n",
       "      <td>mortar and pestle</td>\n",
       "      <td>1.00</td>\n",
       "      <td>20.0</td>\n",
       "      <td>39.225352</td>\n",
       "      <td>32.222222</td>\n",
       "      <td>20.0</td>\n",
       "    </tr>\n",
       "    <tr>\n",
       "      <th>116</th>\n",
       "      <td>https://doi.org/10.1016/j.ijpharm.2022.122283</td>\n",
       "      <td>hydrochlorothiazide</td>\n",
       "      <td>nicotinamide</td>\n",
       "      <td>1:1</td>\n",
       "      <td>ethanol</td>\n",
       "      <td>0.1</td>\n",
       "      <td>mortar and pestle</td>\n",
       "      <td>1.00</td>\n",
       "      <td>20.0</td>\n",
       "      <td>39.225352</td>\n",
       "      <td>8.000000</td>\n",
       "      <td>40.0</td>\n",
       "    </tr>\n",
       "    <tr>\n",
       "      <th>117</th>\n",
       "      <td>https://doi.org/10.1016/j.ijpharm.2022.122283</td>\n",
       "      <td>hydrochlorothiazide</td>\n",
       "      <td>succinimide</td>\n",
       "      <td>1:1</td>\n",
       "      <td>ethanol</td>\n",
       "      <td>0.1</td>\n",
       "      <td>mortar and pestle</td>\n",
       "      <td>1.00</td>\n",
       "      <td>20.0</td>\n",
       "      <td>39.225352</td>\n",
       "      <td>8.000000</td>\n",
       "      <td>40.0</td>\n",
       "    </tr>\n",
       "    <tr>\n",
       "      <th>118</th>\n",
       "      <td>https://doi.org/10.1016/j.ijpharm.2022.122283</td>\n",
       "      <td>hydrochlorothiazide</td>\n",
       "      <td>nicotinic acid</td>\n",
       "      <td>1:1</td>\n",
       "      <td>ethanol</td>\n",
       "      <td>0.1</td>\n",
       "      <td>mortar and pestle</td>\n",
       "      <td>1.00</td>\n",
       "      <td>20.0</td>\n",
       "      <td>39.225352</td>\n",
       "      <td>8.000000</td>\n",
       "      <td>40.0</td>\n",
       "    </tr>\n",
       "  </tbody>\n",
       "</table>\n",
       "<p>119 rows × 12 columns</p>\n",
       "</div>"
      ],
      "text/plain": [
       "                                               doi                   API  \\\n",
       "0                       10.1016/j.ejps.2015.05.017             Caffeine    \n",
       "1                       10.1016/j.ejps.2015.05.017             Caffeine    \n",
       "2                       10.1016/j.ejps.2015.05.017             Caffeine    \n",
       "3                       10.1016/j.ejps.2015.05.017             Caffeine    \n",
       "4                       10.1016/j.ejps.2015.05.017             Caffeine    \n",
       "..                                             ...                   ...   \n",
       "114    https://doi.org/10.1016/j.matpr.2019.03.069               betulin   \n",
       "115    https://doi.org/10.1016/j.matpr.2019.03.069               betulin   \n",
       "116  https://doi.org/10.1016/j.ijpharm.2022.122283   hydrochlorothiazide   \n",
       "117  https://doi.org/10.1016/j.ijpharm.2022.122283   hydrochlorothiazide   \n",
       "118  https://doi.org/10.1016/j.ijpharm.2022.122283   hydrochlorothiazide   \n",
       "\n",
       "               cof1 ratio_mole    liquid  liq_amount_mL  \\\n",
       "0      citric acid        4:1      water            0.3   \n",
       "1      citric acid        3:1      water            0.3   \n",
       "2      citric acid        2:1      water            0.3   \n",
       "3      citric acid        1:1      water            0.3   \n",
       "4      citric acid        1:2      water            0.3   \n",
       "..              ...        ...       ...            ...   \n",
       "114   succinic acid        1:1    dioxan            1.0   \n",
       "115    suberic acid        1:1    dioxan            1.0   \n",
       "116    nicotinamide        1:1   ethanol            0.1   \n",
       "117     succinimide        1:1   ethanol            0.1   \n",
       "118  nicotinic acid        1:1   ethanol            0.1   \n",
       "\n",
       "                                     mixing_apparatus   mixing_frequency_Hz  \\\n",
       "0    planetary mill (Pulverisette 7; Fritsch GmbH, ...                39.23   \n",
       "1    planetary mill (Pulverisette 7; Fritsch GmbH, ...                39.23   \n",
       "2    planetary mill (Pulverisette 7; Fritsch GmbH, ...                39.23   \n",
       "3    planetary mill (Pulverisette 7; Fritsch GmbH, ...                39.23   \n",
       "4    planetary mill (Pulverisette 7; Fritsch GmbH, ...                39.23   \n",
       "..                                                 ...                  ...   \n",
       "114                                  mortar and pestle                 1.00   \n",
       "115                                  mortar and pestle                 1.00   \n",
       "116                                  mortar and pestle                 1.00   \n",
       "117                                  mortar and pestle                 1.00   \n",
       "118                                  mortar and pestle                 1.00   \n",
       "\n",
       "     mixing_temp_C  mixing_time_min  drying_time_hour  drying_temp_C  \n",
       "0             20.0        39.225352         32.222222           20.0  \n",
       "1             20.0        39.225352         32.222222           20.0  \n",
       "2             20.0        39.225352         32.222222           20.0  \n",
       "3             20.0        39.225352         32.222222           20.0  \n",
       "4             20.0        39.225352         32.222222           20.0  \n",
       "..             ...              ...               ...            ...  \n",
       "114           20.0        39.225352         32.222222           20.0  \n",
       "115           20.0        39.225352         32.222222           20.0  \n",
       "116           20.0        39.225352          8.000000           40.0  \n",
       "117           20.0        39.225352          8.000000           40.0  \n",
       "118           20.0        39.225352          8.000000           40.0  \n",
       "\n",
       "[119 rows x 12 columns]"
      ]
     },
     "execution_count": 30,
     "metadata": {},
     "output_type": "execute_result"
    }
   ],
   "source": [
    "#Частота перемешивания не имеет особого влияния при использовании ступки с пестиком, поэтому заменяем пустые значения на ноль\n",
    "#Но частота вращения важна при применении мельниц, заменим на среднее значение частоты\n",
    "\n",
    "df_copy = df\n",
    "\n",
    "def replace_values(row):\n",
    "    if pd.isna(row['mixing_frequency_Hz']):  \n",
    "        if 'mortar and pestle' in row['mixing_apparatus ']: \n",
    "            return 1\n",
    "        else:\n",
    "            return 39.23\n",
    "    return row['mixing_frequency_Hz'] \n",
    "\n",
    "df_copy['mixing_frequency_Hz'] = df.apply(replace_values, axis=1)\n",
    "df_copy"
   ]
  },
  {
   "cell_type": "code",
   "execution_count": 31,
   "metadata": {},
   "outputs": [],
   "source": [
    "df = df_copy"
   ]
  },
  {
   "cell_type": "code",
   "execution_count": 32,
   "metadata": {},
   "outputs": [
    {
     "data": {
      "text/html": [
       "<div>\n",
       "<style scoped>\n",
       "    .dataframe tbody tr th:only-of-type {\n",
       "        vertical-align: middle;\n",
       "    }\n",
       "\n",
       "    .dataframe tbody tr th {\n",
       "        vertical-align: top;\n",
       "    }\n",
       "\n",
       "    .dataframe thead th {\n",
       "        text-align: right;\n",
       "    }\n",
       "</style>\n",
       "<table border=\"1\" class=\"dataframe\">\n",
       "  <thead>\n",
       "    <tr style=\"text-align: right;\">\n",
       "      <th></th>\n",
       "      <th>doi</th>\n",
       "      <th>API</th>\n",
       "      <th>cof1</th>\n",
       "      <th>ratio_mole</th>\n",
       "      <th>liquid</th>\n",
       "      <th>liq_amount_mL</th>\n",
       "      <th>mixing_apparatus</th>\n",
       "      <th>mixing_frequency_Hz</th>\n",
       "      <th>mixing_temp_C</th>\n",
       "      <th>mixing_time_min</th>\n",
       "      <th>drying_time_hour</th>\n",
       "      <th>drying_temp_C</th>\n",
       "    </tr>\n",
       "  </thead>\n",
       "  <tbody>\n",
       "    <tr>\n",
       "      <th>0</th>\n",
       "      <td>10.1016/j.ejps.2015.05.017</td>\n",
       "      <td>Caffeine</td>\n",
       "      <td>citric acid</td>\n",
       "      <td>4:1</td>\n",
       "      <td>water</td>\n",
       "      <td>0.3</td>\n",
       "      <td>planetary mill (Pulverisette 7; Fritsch GmbH, ...</td>\n",
       "      <td>39.23</td>\n",
       "      <td>20.0</td>\n",
       "      <td>39.225352</td>\n",
       "      <td>32.222222</td>\n",
       "      <td>20.0</td>\n",
       "    </tr>\n",
       "    <tr>\n",
       "      <th>1</th>\n",
       "      <td>10.1016/j.ejps.2015.05.017</td>\n",
       "      <td>Caffeine</td>\n",
       "      <td>citric acid</td>\n",
       "      <td>3:1</td>\n",
       "      <td>water</td>\n",
       "      <td>0.3</td>\n",
       "      <td>planetary mill (Pulverisette 7; Fritsch GmbH, ...</td>\n",
       "      <td>39.23</td>\n",
       "      <td>20.0</td>\n",
       "      <td>39.225352</td>\n",
       "      <td>32.222222</td>\n",
       "      <td>20.0</td>\n",
       "    </tr>\n",
       "    <tr>\n",
       "      <th>2</th>\n",
       "      <td>10.1016/j.ejps.2015.05.017</td>\n",
       "      <td>Caffeine</td>\n",
       "      <td>citric acid</td>\n",
       "      <td>2:1</td>\n",
       "      <td>water</td>\n",
       "      <td>0.3</td>\n",
       "      <td>planetary mill (Pulverisette 7; Fritsch GmbH, ...</td>\n",
       "      <td>39.23</td>\n",
       "      <td>20.0</td>\n",
       "      <td>39.225352</td>\n",
       "      <td>32.222222</td>\n",
       "      <td>20.0</td>\n",
       "    </tr>\n",
       "    <tr>\n",
       "      <th>3</th>\n",
       "      <td>10.1016/j.ejps.2015.05.017</td>\n",
       "      <td>Caffeine</td>\n",
       "      <td>citric acid</td>\n",
       "      <td>1:1</td>\n",
       "      <td>water</td>\n",
       "      <td>0.3</td>\n",
       "      <td>planetary mill (Pulverisette 7; Fritsch GmbH, ...</td>\n",
       "      <td>39.23</td>\n",
       "      <td>20.0</td>\n",
       "      <td>39.225352</td>\n",
       "      <td>32.222222</td>\n",
       "      <td>20.0</td>\n",
       "    </tr>\n",
       "    <tr>\n",
       "      <th>4</th>\n",
       "      <td>10.1016/j.ejps.2015.05.017</td>\n",
       "      <td>Caffeine</td>\n",
       "      <td>citric acid</td>\n",
       "      <td>1:2</td>\n",
       "      <td>water</td>\n",
       "      <td>0.3</td>\n",
       "      <td>planetary mill (Pulverisette 7; Fritsch GmbH, ...</td>\n",
       "      <td>39.23</td>\n",
       "      <td>20.0</td>\n",
       "      <td>39.225352</td>\n",
       "      <td>32.222222</td>\n",
       "      <td>20.0</td>\n",
       "    </tr>\n",
       "    <tr>\n",
       "      <th>...</th>\n",
       "      <td>...</td>\n",
       "      <td>...</td>\n",
       "      <td>...</td>\n",
       "      <td>...</td>\n",
       "      <td>...</td>\n",
       "      <td>...</td>\n",
       "      <td>...</td>\n",
       "      <td>...</td>\n",
       "      <td>...</td>\n",
       "      <td>...</td>\n",
       "      <td>...</td>\n",
       "      <td>...</td>\n",
       "    </tr>\n",
       "    <tr>\n",
       "      <th>114</th>\n",
       "      <td>https://doi.org/10.1016/j.matpr.2019.03.069</td>\n",
       "      <td>betulin</td>\n",
       "      <td>succinic acid</td>\n",
       "      <td>1:1</td>\n",
       "      <td>dioxan</td>\n",
       "      <td>1.0</td>\n",
       "      <td>mortar and pestle</td>\n",
       "      <td>1.00</td>\n",
       "      <td>20.0</td>\n",
       "      <td>39.225352</td>\n",
       "      <td>32.222222</td>\n",
       "      <td>20.0</td>\n",
       "    </tr>\n",
       "    <tr>\n",
       "      <th>115</th>\n",
       "      <td>https://doi.org/10.1016/j.matpr.2019.03.069</td>\n",
       "      <td>betulin</td>\n",
       "      <td>suberic acid</td>\n",
       "      <td>1:1</td>\n",
       "      <td>dioxan</td>\n",
       "      <td>1.0</td>\n",
       "      <td>mortar and pestle</td>\n",
       "      <td>1.00</td>\n",
       "      <td>20.0</td>\n",
       "      <td>39.225352</td>\n",
       "      <td>32.222222</td>\n",
       "      <td>20.0</td>\n",
       "    </tr>\n",
       "    <tr>\n",
       "      <th>116</th>\n",
       "      <td>https://doi.org/10.1016/j.ijpharm.2022.122283</td>\n",
       "      <td>hydrochlorothiazide</td>\n",
       "      <td>nicotinamide</td>\n",
       "      <td>1:1</td>\n",
       "      <td>ethanol</td>\n",
       "      <td>0.1</td>\n",
       "      <td>mortar and pestle</td>\n",
       "      <td>1.00</td>\n",
       "      <td>20.0</td>\n",
       "      <td>39.225352</td>\n",
       "      <td>8.000000</td>\n",
       "      <td>40.0</td>\n",
       "    </tr>\n",
       "    <tr>\n",
       "      <th>117</th>\n",
       "      <td>https://doi.org/10.1016/j.ijpharm.2022.122283</td>\n",
       "      <td>hydrochlorothiazide</td>\n",
       "      <td>succinimide</td>\n",
       "      <td>1:1</td>\n",
       "      <td>ethanol</td>\n",
       "      <td>0.1</td>\n",
       "      <td>mortar and pestle</td>\n",
       "      <td>1.00</td>\n",
       "      <td>20.0</td>\n",
       "      <td>39.225352</td>\n",
       "      <td>8.000000</td>\n",
       "      <td>40.0</td>\n",
       "    </tr>\n",
       "    <tr>\n",
       "      <th>118</th>\n",
       "      <td>https://doi.org/10.1016/j.ijpharm.2022.122283</td>\n",
       "      <td>hydrochlorothiazide</td>\n",
       "      <td>nicotinic acid</td>\n",
       "      <td>1:1</td>\n",
       "      <td>ethanol</td>\n",
       "      <td>0.1</td>\n",
       "      <td>mortar and pestle</td>\n",
       "      <td>1.00</td>\n",
       "      <td>20.0</td>\n",
       "      <td>39.225352</td>\n",
       "      <td>8.000000</td>\n",
       "      <td>40.0</td>\n",
       "    </tr>\n",
       "  </tbody>\n",
       "</table>\n",
       "<p>119 rows × 12 columns</p>\n",
       "</div>"
      ],
      "text/plain": [
       "                                               doi                   API  \\\n",
       "0                       10.1016/j.ejps.2015.05.017             Caffeine    \n",
       "1                       10.1016/j.ejps.2015.05.017             Caffeine    \n",
       "2                       10.1016/j.ejps.2015.05.017             Caffeine    \n",
       "3                       10.1016/j.ejps.2015.05.017             Caffeine    \n",
       "4                       10.1016/j.ejps.2015.05.017             Caffeine    \n",
       "..                                             ...                   ...   \n",
       "114    https://doi.org/10.1016/j.matpr.2019.03.069               betulin   \n",
       "115    https://doi.org/10.1016/j.matpr.2019.03.069               betulin   \n",
       "116  https://doi.org/10.1016/j.ijpharm.2022.122283   hydrochlorothiazide   \n",
       "117  https://doi.org/10.1016/j.ijpharm.2022.122283   hydrochlorothiazide   \n",
       "118  https://doi.org/10.1016/j.ijpharm.2022.122283   hydrochlorothiazide   \n",
       "\n",
       "               cof1 ratio_mole    liquid  liq_amount_mL  \\\n",
       "0      citric acid        4:1      water            0.3   \n",
       "1      citric acid        3:1      water            0.3   \n",
       "2      citric acid        2:1      water            0.3   \n",
       "3      citric acid        1:1      water            0.3   \n",
       "4      citric acid        1:2      water            0.3   \n",
       "..              ...        ...       ...            ...   \n",
       "114   succinic acid        1:1    dioxan            1.0   \n",
       "115    suberic acid        1:1    dioxan            1.0   \n",
       "116    nicotinamide        1:1   ethanol            0.1   \n",
       "117     succinimide        1:1   ethanol            0.1   \n",
       "118  nicotinic acid        1:1   ethanol            0.1   \n",
       "\n",
       "                                     mixing_apparatus   mixing_frequency_Hz  \\\n",
       "0    planetary mill (Pulverisette 7; Fritsch GmbH, ...                39.23   \n",
       "1    planetary mill (Pulverisette 7; Fritsch GmbH, ...                39.23   \n",
       "2    planetary mill (Pulverisette 7; Fritsch GmbH, ...                39.23   \n",
       "3    planetary mill (Pulverisette 7; Fritsch GmbH, ...                39.23   \n",
       "4    planetary mill (Pulverisette 7; Fritsch GmbH, ...                39.23   \n",
       "..                                                 ...                  ...   \n",
       "114                                  mortar and pestle                 1.00   \n",
       "115                                  mortar and pestle                 1.00   \n",
       "116                                  mortar and pestle                 1.00   \n",
       "117                                  mortar and pestle                 1.00   \n",
       "118                                  mortar and pestle                 1.00   \n",
       "\n",
       "     mixing_temp_C  mixing_time_min  drying_time_hour  drying_temp_C  \n",
       "0             20.0        39.225352         32.222222           20.0  \n",
       "1             20.0        39.225352         32.222222           20.0  \n",
       "2             20.0        39.225352         32.222222           20.0  \n",
       "3             20.0        39.225352         32.222222           20.0  \n",
       "4             20.0        39.225352         32.222222           20.0  \n",
       "..             ...              ...               ...            ...  \n",
       "114           20.0        39.225352         32.222222           20.0  \n",
       "115           20.0        39.225352         32.222222           20.0  \n",
       "116           20.0        39.225352          8.000000           40.0  \n",
       "117           20.0        39.225352          8.000000           40.0  \n",
       "118           20.0        39.225352          8.000000           40.0  \n",
       "\n",
       "[119 rows x 12 columns]"
      ]
     },
     "execution_count": 32,
     "metadata": {},
     "output_type": "execute_result"
    }
   ],
   "source": [
    "df"
   ]
  },
  {
   "cell_type": "code",
   "execution_count": 33,
   "metadata": {},
   "outputs": [
    {
     "data": {
      "text/plain": [
       "doi                    0\n",
       "API                    0\n",
       "cof1                   0\n",
       "ratio_mole             0\n",
       "liquid                 0\n",
       "liq_amount_mL          0\n",
       "mixing_apparatus       0\n",
       "mixing_frequency_Hz    0\n",
       "mixing_temp_C          0\n",
       "mixing_time_min        0\n",
       "drying_time_hour       0\n",
       "drying_temp_C          0\n",
       "dtype: int64"
      ]
     },
     "execution_count": 33,
     "metadata": {},
     "output_type": "execute_result"
    }
   ],
   "source": [
    "df.isna().sum()"
   ]
  },
  {
   "cell_type": "markdown",
   "metadata": {},
   "source": [
    "Все пропуски заполнены, теперь можно будет приступать к анализу базы данных!"
   ]
  },
  {
   "cell_type": "code",
   "execution_count": 34,
   "metadata": {},
   "outputs": [
    {
     "data": {
      "text/html": [
       "<div>\n",
       "<style scoped>\n",
       "    .dataframe tbody tr th:only-of-type {\n",
       "        vertical-align: middle;\n",
       "    }\n",
       "\n",
       "    .dataframe tbody tr th {\n",
       "        vertical-align: top;\n",
       "    }\n",
       "\n",
       "    .dataframe thead th {\n",
       "        text-align: right;\n",
       "    }\n",
       "</style>\n",
       "<table border=\"1\" class=\"dataframe\">\n",
       "  <thead>\n",
       "    <tr style=\"text-align: right;\">\n",
       "      <th></th>\n",
       "      <th>liq_amount_mL</th>\n",
       "      <th>mixing_frequency_Hz</th>\n",
       "      <th>mixing_temp_C</th>\n",
       "      <th>mixing_time_min</th>\n",
       "      <th>drying_time_hour</th>\n",
       "      <th>drying_temp_C</th>\n",
       "    </tr>\n",
       "  </thead>\n",
       "  <tbody>\n",
       "    <tr>\n",
       "      <th>count</th>\n",
       "      <td>119.000000</td>\n",
       "      <td>119.000000</td>\n",
       "      <td>119.000000</td>\n",
       "      <td>119.000000</td>\n",
       "      <td>119.000000</td>\n",
       "      <td>119.000000</td>\n",
       "    </tr>\n",
       "    <tr>\n",
       "      <th>mean</th>\n",
       "      <td>0.173529</td>\n",
       "      <td>8.681261</td>\n",
       "      <td>20.084034</td>\n",
       "      <td>39.225352</td>\n",
       "      <td>32.222222</td>\n",
       "      <td>22.857143</td>\n",
       "    </tr>\n",
       "    <tr>\n",
       "      <th>std</th>\n",
       "      <td>0.169848</td>\n",
       "      <td>13.800205</td>\n",
       "      <td>0.916698</td>\n",
       "      <td>6.939444</td>\n",
       "      <td>20.382893</td>\n",
       "      <td>11.228962</td>\n",
       "    </tr>\n",
       "    <tr>\n",
       "      <th>min</th>\n",
       "      <td>0.100000</td>\n",
       "      <td>1.000000</td>\n",
       "      <td>20.000000</td>\n",
       "      <td>25.000000</td>\n",
       "      <td>0.500000</td>\n",
       "      <td>20.000000</td>\n",
       "    </tr>\n",
       "    <tr>\n",
       "      <th>25%</th>\n",
       "      <td>0.100000</td>\n",
       "      <td>1.000000</td>\n",
       "      <td>20.000000</td>\n",
       "      <td>39.225352</td>\n",
       "      <td>32.222222</td>\n",
       "      <td>20.000000</td>\n",
       "    </tr>\n",
       "    <tr>\n",
       "      <th>50%</th>\n",
       "      <td>0.100000</td>\n",
       "      <td>1.000000</td>\n",
       "      <td>20.000000</td>\n",
       "      <td>39.225352</td>\n",
       "      <td>32.222222</td>\n",
       "      <td>20.000000</td>\n",
       "    </tr>\n",
       "    <tr>\n",
       "      <th>75%</th>\n",
       "      <td>0.250000</td>\n",
       "      <td>1.000000</td>\n",
       "      <td>20.000000</td>\n",
       "      <td>45.000000</td>\n",
       "      <td>32.222222</td>\n",
       "      <td>20.000000</td>\n",
       "    </tr>\n",
       "    <tr>\n",
       "      <th>max</th>\n",
       "      <td>1.000000</td>\n",
       "      <td>39.230000</td>\n",
       "      <td>30.000000</td>\n",
       "      <td>45.000000</td>\n",
       "      <td>240.000000</td>\n",
       "      <td>80.000000</td>\n",
       "    </tr>\n",
       "  </tbody>\n",
       "</table>\n",
       "</div>"
      ],
      "text/plain": [
       "       liq_amount_mL  mixing_frequency_Hz  mixing_temp_C  mixing_time_min  \\\n",
       "count     119.000000           119.000000     119.000000       119.000000   \n",
       "mean        0.173529             8.681261      20.084034        39.225352   \n",
       "std         0.169848            13.800205       0.916698         6.939444   \n",
       "min         0.100000             1.000000      20.000000        25.000000   \n",
       "25%         0.100000             1.000000      20.000000        39.225352   \n",
       "50%         0.100000             1.000000      20.000000        39.225352   \n",
       "75%         0.250000             1.000000      20.000000        45.000000   \n",
       "max         1.000000            39.230000      30.000000        45.000000   \n",
       "\n",
       "       drying_time_hour  drying_temp_C  \n",
       "count        119.000000     119.000000  \n",
       "mean          32.222222      22.857143  \n",
       "std           20.382893      11.228962  \n",
       "min            0.500000      20.000000  \n",
       "25%           32.222222      20.000000  \n",
       "50%           32.222222      20.000000  \n",
       "75%           32.222222      20.000000  \n",
       "max          240.000000      80.000000  "
      ]
     },
     "execution_count": 34,
     "metadata": {},
     "output_type": "execute_result"
    }
   ],
   "source": [
    "#Описание численных признаков\n",
    "df.describe()"
   ]
  },
  {
   "cell_type": "markdown",
   "metadata": {},
   "source": [
    "Анализ распределения объема растворителя"
   ]
  },
  {
   "cell_type": "code",
   "execution_count": 35,
   "metadata": {},
   "outputs": [
    {
     "data": {
      "application/vnd.plotly.v1+json": {
       "config": {
        "plotlyServerURL": "https://plot.ly"
       },
       "data": [
        {
         "alignmentgroup": "True",
         "bingroup": "x",
         "hovertemplate": "liq_amount_mL=%{x}<br>count=%{y}<extra></extra>",
         "legendgroup": "",
         "marker": {
          "color": "orange",
          "pattern": {
           "shape": ""
          }
         },
         "name": "",
         "nbinsx": 60,
         "offsetgroup": "",
         "orientation": "v",
         "showlegend": false,
         "type": "histogram",
         "x": [
          0.3,
          0.3,
          0.3,
          0.3,
          0.3,
          0.3,
          0.3,
          0.1,
          0.1,
          0.1,
          0.1,
          0.1,
          0.1,
          0.1,
          0.1,
          0.1,
          0.1,
          0.1,
          0.1,
          0.1,
          0.1,
          0.1,
          0.1,
          0.1,
          0.1,
          0.1,
          0.1,
          0.1,
          0.1,
          0.1,
          0.1,
          0.1,
          0.1,
          0.1,
          0.1,
          0.1,
          0.1,
          0.1,
          0.1,
          0.1,
          0.1,
          0.1,
          0.1,
          0.1,
          0.1,
          0.1,
          0.1,
          0.1,
          0.1,
          0.1,
          0.1,
          0.1,
          0.1,
          0.1,
          0.1,
          0.1,
          0.1,
          0.1,
          0.1,
          0.1,
          0.25,
          0.25,
          0.25,
          0.25,
          0.25,
          0.25,
          0.25,
          0.25,
          0.25,
          0.25,
          0.25,
          0.25,
          0.25,
          0.25,
          0.25,
          0.25,
          0.25,
          0.25,
          0.25,
          0.1,
          1,
          0.1,
          0.1,
          0.1,
          0.1,
          0.1,
          0.1,
          0.1,
          0.1,
          0.1,
          0.1,
          0.1,
          0.1,
          0.1,
          0.1,
          0.1,
          0.1,
          0.1,
          0.1,
          0.1,
          0.15,
          0.15,
          0.15,
          0.15,
          0.2,
          0.2,
          0.2,
          0.2,
          0.3,
          0.1,
          0.1,
          0.1,
          0.2,
          1,
          1,
          1,
          0.1,
          0.1,
          0.1
         ],
         "xaxis": "x",
         "yaxis": "y"
        },
        {
         "alignmentgroup": "True",
         "box": {
          "visible": true
         },
         "hovertemplate": "liq_amount_mL=%{y}<extra></extra>",
         "legendgroup": "",
         "marker": {
          "color": "blue"
         },
         "name": "",
         "offsetgroup": "",
         "orientation": "v",
         "scalegroup": "True",
         "showlegend": false,
         "type": "violin",
         "x0": " ",
         "xaxis": "x2",
         "y": [
          0.3,
          0.3,
          0.3,
          0.3,
          0.3,
          0.3,
          0.3,
          0.1,
          0.1,
          0.1,
          0.1,
          0.1,
          0.1,
          0.1,
          0.1,
          0.1,
          0.1,
          0.1,
          0.1,
          0.1,
          0.1,
          0.1,
          0.1,
          0.1,
          0.1,
          0.1,
          0.1,
          0.1,
          0.1,
          0.1,
          0.1,
          0.1,
          0.1,
          0.1,
          0.1,
          0.1,
          0.1,
          0.1,
          0.1,
          0.1,
          0.1,
          0.1,
          0.1,
          0.1,
          0.1,
          0.1,
          0.1,
          0.1,
          0.1,
          0.1,
          0.1,
          0.1,
          0.1,
          0.1,
          0.1,
          0.1,
          0.1,
          0.1,
          0.1,
          0.1,
          0.25,
          0.25,
          0.25,
          0.25,
          0.25,
          0.25,
          0.25,
          0.25,
          0.25,
          0.25,
          0.25,
          0.25,
          0.25,
          0.25,
          0.25,
          0.25,
          0.25,
          0.25,
          0.25,
          0.1,
          1,
          0.1,
          0.1,
          0.1,
          0.1,
          0.1,
          0.1,
          0.1,
          0.1,
          0.1,
          0.1,
          0.1,
          0.1,
          0.1,
          0.1,
          0.1,
          0.1,
          0.1,
          0.1,
          0.1,
          0.15,
          0.15,
          0.15,
          0.15,
          0.2,
          0.2,
          0.2,
          0.2,
          0.3,
          0.1,
          0.1,
          0.1,
          0.2,
          1,
          1,
          1,
          0.1,
          0.1,
          0.1
         ],
         "y0": " ",
         "yaxis": "y2"
        }
       ],
       "layout": {
        "annotations": [
         {
          "font": {
           "size": 16
          },
          "showarrow": false,
          "text": "Распределение объема растворителя",
          "x": 0.225,
          "xanchor": "center",
          "xref": "paper",
          "y": 1,
          "yanchor": "bottom",
          "yref": "paper"
         },
         {
          "font": {
           "size": 16
          },
          "showarrow": false,
          "text": "Violin Plot для растворителя",
          "x": 0.775,
          "xanchor": "center",
          "xref": "paper",
          "y": 1,
          "yanchor": "bottom",
          "yref": "paper"
         }
        ],
        "showlegend": false,
        "template": {
         "data": {
          "bar": [
           {
            "error_x": {
             "color": "#2a3f5f"
            },
            "error_y": {
             "color": "#2a3f5f"
            },
            "marker": {
             "line": {
              "color": "#E5ECF6",
              "width": 0.5
             },
             "pattern": {
              "fillmode": "overlay",
              "size": 10,
              "solidity": 0.2
             }
            },
            "type": "bar"
           }
          ],
          "barpolar": [
           {
            "marker": {
             "line": {
              "color": "#E5ECF6",
              "width": 0.5
             },
             "pattern": {
              "fillmode": "overlay",
              "size": 10,
              "solidity": 0.2
             }
            },
            "type": "barpolar"
           }
          ],
          "carpet": [
           {
            "aaxis": {
             "endlinecolor": "#2a3f5f",
             "gridcolor": "white",
             "linecolor": "white",
             "minorgridcolor": "white",
             "startlinecolor": "#2a3f5f"
            },
            "baxis": {
             "endlinecolor": "#2a3f5f",
             "gridcolor": "white",
             "linecolor": "white",
             "minorgridcolor": "white",
             "startlinecolor": "#2a3f5f"
            },
            "type": "carpet"
           }
          ],
          "choropleth": [
           {
            "colorbar": {
             "outlinewidth": 0,
             "ticks": ""
            },
            "type": "choropleth"
           }
          ],
          "contour": [
           {
            "colorbar": {
             "outlinewidth": 0,
             "ticks": ""
            },
            "colorscale": [
             [
              0,
              "#0d0887"
             ],
             [
              0.1111111111111111,
              "#46039f"
             ],
             [
              0.2222222222222222,
              "#7201a8"
             ],
             [
              0.3333333333333333,
              "#9c179e"
             ],
             [
              0.4444444444444444,
              "#bd3786"
             ],
             [
              0.5555555555555556,
              "#d8576b"
             ],
             [
              0.6666666666666666,
              "#ed7953"
             ],
             [
              0.7777777777777778,
              "#fb9f3a"
             ],
             [
              0.8888888888888888,
              "#fdca26"
             ],
             [
              1,
              "#f0f921"
             ]
            ],
            "type": "contour"
           }
          ],
          "contourcarpet": [
           {
            "colorbar": {
             "outlinewidth": 0,
             "ticks": ""
            },
            "type": "contourcarpet"
           }
          ],
          "heatmap": [
           {
            "colorbar": {
             "outlinewidth": 0,
             "ticks": ""
            },
            "colorscale": [
             [
              0,
              "#0d0887"
             ],
             [
              0.1111111111111111,
              "#46039f"
             ],
             [
              0.2222222222222222,
              "#7201a8"
             ],
             [
              0.3333333333333333,
              "#9c179e"
             ],
             [
              0.4444444444444444,
              "#bd3786"
             ],
             [
              0.5555555555555556,
              "#d8576b"
             ],
             [
              0.6666666666666666,
              "#ed7953"
             ],
             [
              0.7777777777777778,
              "#fb9f3a"
             ],
             [
              0.8888888888888888,
              "#fdca26"
             ],
             [
              1,
              "#f0f921"
             ]
            ],
            "type": "heatmap"
           }
          ],
          "heatmapgl": [
           {
            "colorbar": {
             "outlinewidth": 0,
             "ticks": ""
            },
            "colorscale": [
             [
              0,
              "#0d0887"
             ],
             [
              0.1111111111111111,
              "#46039f"
             ],
             [
              0.2222222222222222,
              "#7201a8"
             ],
             [
              0.3333333333333333,
              "#9c179e"
             ],
             [
              0.4444444444444444,
              "#bd3786"
             ],
             [
              0.5555555555555556,
              "#d8576b"
             ],
             [
              0.6666666666666666,
              "#ed7953"
             ],
             [
              0.7777777777777778,
              "#fb9f3a"
             ],
             [
              0.8888888888888888,
              "#fdca26"
             ],
             [
              1,
              "#f0f921"
             ]
            ],
            "type": "heatmapgl"
           }
          ],
          "histogram": [
           {
            "marker": {
             "pattern": {
              "fillmode": "overlay",
              "size": 10,
              "solidity": 0.2
             }
            },
            "type": "histogram"
           }
          ],
          "histogram2d": [
           {
            "colorbar": {
             "outlinewidth": 0,
             "ticks": ""
            },
            "colorscale": [
             [
              0,
              "#0d0887"
             ],
             [
              0.1111111111111111,
              "#46039f"
             ],
             [
              0.2222222222222222,
              "#7201a8"
             ],
             [
              0.3333333333333333,
              "#9c179e"
             ],
             [
              0.4444444444444444,
              "#bd3786"
             ],
             [
              0.5555555555555556,
              "#d8576b"
             ],
             [
              0.6666666666666666,
              "#ed7953"
             ],
             [
              0.7777777777777778,
              "#fb9f3a"
             ],
             [
              0.8888888888888888,
              "#fdca26"
             ],
             [
              1,
              "#f0f921"
             ]
            ],
            "type": "histogram2d"
           }
          ],
          "histogram2dcontour": [
           {
            "colorbar": {
             "outlinewidth": 0,
             "ticks": ""
            },
            "colorscale": [
             [
              0,
              "#0d0887"
             ],
             [
              0.1111111111111111,
              "#46039f"
             ],
             [
              0.2222222222222222,
              "#7201a8"
             ],
             [
              0.3333333333333333,
              "#9c179e"
             ],
             [
              0.4444444444444444,
              "#bd3786"
             ],
             [
              0.5555555555555556,
              "#d8576b"
             ],
             [
              0.6666666666666666,
              "#ed7953"
             ],
             [
              0.7777777777777778,
              "#fb9f3a"
             ],
             [
              0.8888888888888888,
              "#fdca26"
             ],
             [
              1,
              "#f0f921"
             ]
            ],
            "type": "histogram2dcontour"
           }
          ],
          "mesh3d": [
           {
            "colorbar": {
             "outlinewidth": 0,
             "ticks": ""
            },
            "type": "mesh3d"
           }
          ],
          "parcoords": [
           {
            "line": {
             "colorbar": {
              "outlinewidth": 0,
              "ticks": ""
             }
            },
            "type": "parcoords"
           }
          ],
          "pie": [
           {
            "automargin": true,
            "type": "pie"
           }
          ],
          "scatter": [
           {
            "fillpattern": {
             "fillmode": "overlay",
             "size": 10,
             "solidity": 0.2
            },
            "type": "scatter"
           }
          ],
          "scatter3d": [
           {
            "line": {
             "colorbar": {
              "outlinewidth": 0,
              "ticks": ""
             }
            },
            "marker": {
             "colorbar": {
              "outlinewidth": 0,
              "ticks": ""
             }
            },
            "type": "scatter3d"
           }
          ],
          "scattercarpet": [
           {
            "marker": {
             "colorbar": {
              "outlinewidth": 0,
              "ticks": ""
             }
            },
            "type": "scattercarpet"
           }
          ],
          "scattergeo": [
           {
            "marker": {
             "colorbar": {
              "outlinewidth": 0,
              "ticks": ""
             }
            },
            "type": "scattergeo"
           }
          ],
          "scattergl": [
           {
            "marker": {
             "colorbar": {
              "outlinewidth": 0,
              "ticks": ""
             }
            },
            "type": "scattergl"
           }
          ],
          "scattermapbox": [
           {
            "marker": {
             "colorbar": {
              "outlinewidth": 0,
              "ticks": ""
             }
            },
            "type": "scattermapbox"
           }
          ],
          "scatterpolar": [
           {
            "marker": {
             "colorbar": {
              "outlinewidth": 0,
              "ticks": ""
             }
            },
            "type": "scatterpolar"
           }
          ],
          "scatterpolargl": [
           {
            "marker": {
             "colorbar": {
              "outlinewidth": 0,
              "ticks": ""
             }
            },
            "type": "scatterpolargl"
           }
          ],
          "scatterternary": [
           {
            "marker": {
             "colorbar": {
              "outlinewidth": 0,
              "ticks": ""
             }
            },
            "type": "scatterternary"
           }
          ],
          "surface": [
           {
            "colorbar": {
             "outlinewidth": 0,
             "ticks": ""
            },
            "colorscale": [
             [
              0,
              "#0d0887"
             ],
             [
              0.1111111111111111,
              "#46039f"
             ],
             [
              0.2222222222222222,
              "#7201a8"
             ],
             [
              0.3333333333333333,
              "#9c179e"
             ],
             [
              0.4444444444444444,
              "#bd3786"
             ],
             [
              0.5555555555555556,
              "#d8576b"
             ],
             [
              0.6666666666666666,
              "#ed7953"
             ],
             [
              0.7777777777777778,
              "#fb9f3a"
             ],
             [
              0.8888888888888888,
              "#fdca26"
             ],
             [
              1,
              "#f0f921"
             ]
            ],
            "type": "surface"
           }
          ],
          "table": [
           {
            "cells": {
             "fill": {
              "color": "#EBF0F8"
             },
             "line": {
              "color": "white"
             }
            },
            "header": {
             "fill": {
              "color": "#C8D4E3"
             },
             "line": {
              "color": "white"
             }
            },
            "type": "table"
           }
          ]
         },
         "layout": {
          "annotationdefaults": {
           "arrowcolor": "#2a3f5f",
           "arrowhead": 0,
           "arrowwidth": 1
          },
          "autotypenumbers": "strict",
          "coloraxis": {
           "colorbar": {
            "outlinewidth": 0,
            "ticks": ""
           }
          },
          "colorscale": {
           "diverging": [
            [
             0,
             "#8e0152"
            ],
            [
             0.1,
             "#c51b7d"
            ],
            [
             0.2,
             "#de77ae"
            ],
            [
             0.3,
             "#f1b6da"
            ],
            [
             0.4,
             "#fde0ef"
            ],
            [
             0.5,
             "#f7f7f7"
            ],
            [
             0.6,
             "#e6f5d0"
            ],
            [
             0.7,
             "#b8e186"
            ],
            [
             0.8,
             "#7fbc41"
            ],
            [
             0.9,
             "#4d9221"
            ],
            [
             1,
             "#276419"
            ]
           ],
           "sequential": [
            [
             0,
             "#0d0887"
            ],
            [
             0.1111111111111111,
             "#46039f"
            ],
            [
             0.2222222222222222,
             "#7201a8"
            ],
            [
             0.3333333333333333,
             "#9c179e"
            ],
            [
             0.4444444444444444,
             "#bd3786"
            ],
            [
             0.5555555555555556,
             "#d8576b"
            ],
            [
             0.6666666666666666,
             "#ed7953"
            ],
            [
             0.7777777777777778,
             "#fb9f3a"
            ],
            [
             0.8888888888888888,
             "#fdca26"
            ],
            [
             1,
             "#f0f921"
            ]
           ],
           "sequentialminus": [
            [
             0,
             "#0d0887"
            ],
            [
             0.1111111111111111,
             "#46039f"
            ],
            [
             0.2222222222222222,
             "#7201a8"
            ],
            [
             0.3333333333333333,
             "#9c179e"
            ],
            [
             0.4444444444444444,
             "#bd3786"
            ],
            [
             0.5555555555555556,
             "#d8576b"
            ],
            [
             0.6666666666666666,
             "#ed7953"
            ],
            [
             0.7777777777777778,
             "#fb9f3a"
            ],
            [
             0.8888888888888888,
             "#fdca26"
            ],
            [
             1,
             "#f0f921"
            ]
           ]
          },
          "colorway": [
           "#636efa",
           "#EF553B",
           "#00cc96",
           "#ab63fa",
           "#FFA15A",
           "#19d3f3",
           "#FF6692",
           "#B6E880",
           "#FF97FF",
           "#FECB52"
          ],
          "font": {
           "color": "#2a3f5f"
          },
          "geo": {
           "bgcolor": "white",
           "lakecolor": "white",
           "landcolor": "#E5ECF6",
           "showlakes": true,
           "showland": true,
           "subunitcolor": "white"
          },
          "hoverlabel": {
           "align": "left"
          },
          "hovermode": "closest",
          "mapbox": {
           "style": "light"
          },
          "paper_bgcolor": "white",
          "plot_bgcolor": "#E5ECF6",
          "polar": {
           "angularaxis": {
            "gridcolor": "white",
            "linecolor": "white",
            "ticks": ""
           },
           "bgcolor": "#E5ECF6",
           "radialaxis": {
            "gridcolor": "white",
            "linecolor": "white",
            "ticks": ""
           }
          },
          "scene": {
           "xaxis": {
            "backgroundcolor": "#E5ECF6",
            "gridcolor": "white",
            "gridwidth": 2,
            "linecolor": "white",
            "showbackground": true,
            "ticks": "",
            "zerolinecolor": "white"
           },
           "yaxis": {
            "backgroundcolor": "#E5ECF6",
            "gridcolor": "white",
            "gridwidth": 2,
            "linecolor": "white",
            "showbackground": true,
            "ticks": "",
            "zerolinecolor": "white"
           },
           "zaxis": {
            "backgroundcolor": "#E5ECF6",
            "gridcolor": "white",
            "gridwidth": 2,
            "linecolor": "white",
            "showbackground": true,
            "ticks": "",
            "zerolinecolor": "white"
           }
          },
          "shapedefaults": {
           "line": {
            "color": "#2a3f5f"
           }
          },
          "ternary": {
           "aaxis": {
            "gridcolor": "white",
            "linecolor": "white",
            "ticks": ""
           },
           "baxis": {
            "gridcolor": "white",
            "linecolor": "white",
            "ticks": ""
           },
           "bgcolor": "#E5ECF6",
           "caxis": {
            "gridcolor": "white",
            "linecolor": "white",
            "ticks": ""
           }
          },
          "title": {
           "x": 0.05
          },
          "xaxis": {
           "automargin": true,
           "gridcolor": "white",
           "linecolor": "white",
           "ticks": "",
           "title": {
            "standoff": 15
           },
           "zerolinecolor": "white",
           "zerolinewidth": 2
          },
          "yaxis": {
           "automargin": true,
           "gridcolor": "white",
           "linecolor": "white",
           "ticks": "",
           "title": {
            "standoff": 15
           },
           "zerolinecolor": "white",
           "zerolinewidth": 2
          }
         }
        },
        "title": {
         "text": "Гистограмма и Violin Plot"
        },
        "xaxis": {
         "anchor": "y",
         "domain": [
          0,
          0.45
         ]
        },
        "xaxis2": {
         "anchor": "y2",
         "domain": [
          0.55,
          1
         ]
        },
        "yaxis": {
         "anchor": "x",
         "domain": [
          0,
          1
         ]
        },
        "yaxis2": {
         "anchor": "x2",
         "domain": [
          0,
          1
         ]
        }
       }
      }
     },
     "metadata": {},
     "output_type": "display_data"
    }
   ],
   "source": [
    "fig = make_subplots(rows=1, cols=2, subplot_titles=['Распределение объема растворителя', 'Violin Plot для растворителя'])\n",
    "\n",
    "# Гистограмма\n",
    "hist_fig = px.histogram(df, x=\"liq_amount_mL\", nbins = 60,\n",
    "                 color_discrete_sequence = [\"orange\", \"red\", \"green\"])\n",
    "\n",
    "fig.add_trace(hist_fig['data'][0], row=1, col=1) # Добавление графика с указанием расположения\n",
    "\n",
    "# Violin plot\n",
    "violin_fig = px.violin(df, y=\"liq_amount_mL\", color_discrete_sequence = [\"blue\", \"purple\"], box = True)  \n",
    "fig.add_trace(violin_fig['data'][0], row=1, col=2) # Добавление графика с указанием расположения\n",
    "\n",
    "# Настройка макета\n",
    "fig.update_layout(showlegend=False, title_text=\"Гистограмма и Violin Plot\") \n",
    "\n",
    "# Отображение графика\n",
    "fig.show()"
   ]
  },
  {
   "cell_type": "markdown",
   "metadata": {},
   "source": [
    "Распределение совсем не похоже на нормальное, но видно, что в большинстве экспериментов использовали именно капли.\n",
    "\n",
    "Все-таки проверим это распределение."
   ]
  },
  {
   "cell_type": "code",
   "execution_count": 36,
   "metadata": {},
   "outputs": [
    {
     "name": "stdout",
     "output_type": "stream",
     "text": [
      "Результат теста: AndersonResult(statistic=21.168545835354365, critical_values=array([0.558, 0.636, 0.763, 0.89 , 1.058]), significance_level=array([15. , 10. ,  5. ,  2.5,  1. ]), fit_result=  params: FitParams(loc=0.17352941176470593, scale=0.16984832832881142)\n",
      " success: True\n",
      " message: '`anderson` successfully fit the distribution to the data.')\n",
      "Статистика теста: 21.168545835354365\n",
      "Критические значения: [0.558 0.636 0.763 0.89  1.058]\n",
      "Уровень значимости: [15.  10.   5.   2.5  1. ]\n",
      "Данные не похожи на нормальное распределение (гипотеза о нормальности отвергается).\n"
     ]
    }
   ],
   "source": [
    "# Проведем тест Андерсона-Дарлинга на нормальность\n",
    "#В параметре dist указываем необходимое нам распределение - нормальное\n",
    "result = stats.anderson(df['liq_amount_mL'], dist='norm')\n",
    "\n",
    "print(f\"Результат теста: {result}\")\n",
    "\n",
    "print('Статистика теста:', result.statistic)\n",
    "print('Критические значения:', result.critical_values)\n",
    "\n",
    "print('Уровень значимости:', result.significance_level)\n",
    "\n",
    "if result.statistic < result.critical_values[2]:\n",
    "    print(\"Данные похожи на нормальное распределение (гипотеза о нормальности не отвергается).\")\n",
    "else:\n",
    "    print(\"Данные не похожи на нормальное распределение (гипотеза о нормальности отвергается).\")"
   ]
  },
  {
   "cell_type": "code",
   "execution_count": 37,
   "metadata": {},
   "outputs": [
    {
     "data": {
      "image/png": "[encoded data removed]",
      "text/plain": [
       "<Figure size 1600x1200 with 4 Axes>"
      ]
     },
     "metadata": {},
     "output_type": "display_data"
    }
   ],
   "source": [
    "sns.set(style=\"whitegrid\")\n",
    "\n",
    "df['liq_amount_mL'] = df['liq_amount_mL'].astype('category')\n",
    "\n",
    "def format_mixing_temp_C(x):\n",
    "    if isinstance(x, (float, int)):\n",
    "        return f\"{x:.2f}\"\n",
    "    return x\n",
    "\n",
    "df['mixing_temp_C'] = df['mixing_temp_C'].apply(format_mixing_temp_C).astype('category')\n",
    "\n",
    "columns = [\"API\", \"mixing_time_min\", \"drying_time_hour\", \"drying_temp_C\"]\n",
    "titles = [\"API\", \"mixing_time_min\", \"drying_time_hour\", \"drying_temp_C\"]\n",
    "\n",
    "fig, axes = plt.subplots(2, 2, figsize=(16, 12))\n",
    "axes = axes.flatten()\n",
    "\n",
    "for i, (col, title) in enumerate(zip(columns, titles)):\n",
    "    if col in ['drying_time_hour', 'drying_temp_C']:\n",
    "        sns.countplot(\n",
    "            data=df,\n",
    "            x=col,\n",
    "            hue=col,\n",
    "            palette='Blues_d',\n",
    "            edgecolor='black',\n",
    "            ax=axes[i]\n",
    "        )\n",
    "        \n",
    "        if axes[i].get_legend() is not None:\n",
    "            axes[i].get_legend().remove()\n",
    "    else:\n",
    "        sns.histplot(\n",
    "            data=df,\n",
    "            x=col,\n",
    "            kde=False,\n",
    "            color='skyblue',\n",
    "            edgecolor='black',\n",
    "            ax=axes[i]\n",
    "        )\n",
    "    \n",
    "    axes[i].set_title(title, fontsize=14)\n",
    "    axes[i].set_xlabel(col.replace('_', ' ').capitalize(), fontsize=12)\n",
    "    axes[i].set_ylabel('Количество', fontsize=12)\n",
    "    \n",
    "    axes[i].tick_params(axis='x', rotation=45)\n",
    "\n",
    "plt.suptitle(\"Распределение по различным признакам\", fontsize=18)\n",
    "plt.tight_layout(rect=[0, 0.03, 1, 0.95])\n",
    "plt.show()"
   ]
  },
  {
   "cell_type": "markdown",
   "metadata": {},
   "source": [
    "Анализ категориальных переменных\n",
    "\n",
    "В этом датасете много категориальных переменных, рассмотрим количество пар АФИ-коформер"
   ]
  },
  {
   "cell_type": "code",
   "execution_count": 38,
   "metadata": {},
   "outputs": [
    {
     "data": {
      "text/html": [
       "<div>\n",
       "<style scoped>\n",
       "    .dataframe tbody tr th:only-of-type {\n",
       "        vertical-align: middle;\n",
       "    }\n",
       "\n",
       "    .dataframe tbody tr th {\n",
       "        vertical-align: top;\n",
       "    }\n",
       "\n",
       "    .dataframe thead th {\n",
       "        text-align: right;\n",
       "    }\n",
       "</style>\n",
       "<table border=\"1\" class=\"dataframe\">\n",
       "  <thead>\n",
       "    <tr style=\"text-align: right;\">\n",
       "      <th></th>\n",
       "      <th>API</th>\n",
       "      <th>liq_amount_mL</th>\n",
       "    </tr>\n",
       "  </thead>\n",
       "  <tbody>\n",
       "    <tr>\n",
       "      <th>0</th>\n",
       "      <td>cyanuric acid</td>\n",
       "      <td>1</td>\n",
       "    </tr>\n",
       "    <tr>\n",
       "      <th>1</th>\n",
       "      <td>hydrochlorothiazide</td>\n",
       "      <td>3</td>\n",
       "    </tr>\n",
       "    <tr>\n",
       "      <th>2</th>\n",
       "      <td>Caffeine</td>\n",
       "      <td>7</td>\n",
       "    </tr>\n",
       "    <tr>\n",
       "      <th>3</th>\n",
       "      <td>Daidzein</td>\n",
       "      <td>2</td>\n",
       "    </tr>\n",
       "    <tr>\n",
       "      <th>4</th>\n",
       "      <td>Metaxalone</td>\n",
       "      <td>6</td>\n",
       "    </tr>\n",
       "    <tr>\n",
       "      <th>5</th>\n",
       "      <td>Piroxicam</td>\n",
       "      <td>1</td>\n",
       "    </tr>\n",
       "    <tr>\n",
       "      <th>6</th>\n",
       "      <td>Praziquantel</td>\n",
       "      <td>4</td>\n",
       "    </tr>\n",
       "    <tr>\n",
       "      <th>7</th>\n",
       "      <td>Remdesivir</td>\n",
       "      <td>4</td>\n",
       "    </tr>\n",
       "    <tr>\n",
       "      <th>8</th>\n",
       "      <td>Theophylline</td>\n",
       "      <td>1</td>\n",
       "    </tr>\n",
       "    <tr>\n",
       "      <th>9</th>\n",
       "      <td>Trans-aconitic acid</td>\n",
       "      <td>12</td>\n",
       "    </tr>\n",
       "    <tr>\n",
       "      <th>10</th>\n",
       "      <td>Voriconazole</td>\n",
       "      <td>1</td>\n",
       "    </tr>\n",
       "    <tr>\n",
       "      <th>11</th>\n",
       "      <td>Zaltoprofen</td>\n",
       "      <td>50</td>\n",
       "    </tr>\n",
       "    <tr>\n",
       "      <th>12</th>\n",
       "      <td>andrographolide</td>\n",
       "      <td>1</td>\n",
       "    </tr>\n",
       "    <tr>\n",
       "      <th>13</th>\n",
       "      <td>betulin</td>\n",
       "      <td>3</td>\n",
       "    </tr>\n",
       "    <tr>\n",
       "      <th>14</th>\n",
       "      <td>caffeine</td>\n",
       "      <td>19</td>\n",
       "    </tr>\n",
       "    <tr>\n",
       "      <th>15</th>\n",
       "      <td>dicamba</td>\n",
       "      <td>1</td>\n",
       "    </tr>\n",
       "    <tr>\n",
       "      <th>16</th>\n",
       "      <td>quercetin</td>\n",
       "      <td>2</td>\n",
       "    </tr>\n",
       "    <tr>\n",
       "      <th>17</th>\n",
       "      <td>theophylline</td>\n",
       "      <td>1</td>\n",
       "    </tr>\n",
       "  </tbody>\n",
       "</table>\n",
       "</div>"
      ],
      "text/plain": [
       "                     API  liq_amount_mL\n",
       "0          cyanuric acid              1\n",
       "1    hydrochlorothiazide              3\n",
       "2              Caffeine               7\n",
       "3               Daidzein              2\n",
       "4             Metaxalone              6\n",
       "5             Piroxicam               1\n",
       "6           Praziquantel              4\n",
       "7             Remdesivir              4\n",
       "8           Theophylline              1\n",
       "9   Trans-aconitic acid              12\n",
       "10          Voriconazole              1\n",
       "11          Zaltoprofen              50\n",
       "12       andrographolide              1\n",
       "13               betulin              3\n",
       "14             caffeine              19\n",
       "15               dicamba              1\n",
       "16             quercetin              2\n",
       "17          theophylline              1"
      ]
     },
     "execution_count": 38,
     "metadata": {},
     "output_type": "execute_result"
    }
   ],
   "source": [
    "df_pie = pd.DataFrame(df.groupby('API')['liq_amount_mL'].count())\n",
    "df_pie = df_pie.reset_index()\n",
    "df_pie"
   ]
  },
  {
   "cell_type": "code",
   "execution_count": 46,
   "metadata": {},
   "outputs": [
    {
     "ename": "NameError",
     "evalue": "name 'colors' is not defined",
     "output_type": "error",
     "traceback": [
      "\u001b[0;31m---------------------------------------------------------------------------\u001b[0m",
      "\u001b[0;31mNameError\u001b[0m                                 Traceback (most recent call last)",
      "Cell \u001b[0;32mIn[46], line 2\u001b[0m\n\u001b[1;32m      1\u001b[0m \u001b[38;5;66;03m# Построение круговой диаграммы \u001b[39;00m\n\u001b[0;32m----> 2\u001b[0m fig \u001b[38;5;241m=\u001b[39m px\u001b[38;5;241m.\u001b[39mpie(df_pie, values\u001b[38;5;241m=\u001b[39m\u001b[38;5;124m\"\u001b[39m\u001b[38;5;124mliq_amount_mL\u001b[39m\u001b[38;5;124m\"\u001b[39m, names\u001b[38;5;241m=\u001b[39m\u001b[38;5;124m\"\u001b[39m\u001b[38;5;124mAPI\u001b[39m\u001b[38;5;124m\"\u001b[39m, color_discrete_sequence \u001b[38;5;241m=\u001b[39m \u001b[43mcolors\u001b[49m)  \n\u001b[1;32m      4\u001b[0m \u001b[38;5;66;03m#Вывод графика \u001b[39;00m\n\u001b[1;32m      5\u001b[0m fig\u001b[38;5;241m.\u001b[39mshow()\n",
      "\u001b[0;31mNameError\u001b[0m: name 'colors' is not defined"
     ]
    }
   ],
   "source": [
    "# Построение круговой диаграммы \n",
    "fig = px.pie(df_pie, values=\"liq_amount_mL\", names=\"API\", color_discrete_sequence = colors)  \n",
    "  \n",
    "#Вывод графика \n",
    "fig.show()"
   ]
  },
  {
   "cell_type": "markdown",
   "metadata": {},
   "source": [
    "Перед дальнейшим анализом данных, а именно рассмотрением корреляций между данными, их необходимо нормализовать.\n",
    "\n",
    "Будем использовать MinMax."
   ]
  },
  {
   "cell_type": "code",
   "execution_count": 335,
   "metadata": {},
   "outputs": [
    {
     "data": {
      "text/html": [
       "<div>\n",
       "<style scoped>\n",
       "    .dataframe tbody tr th:only-of-type {\n",
       "        vertical-align: middle;\n",
       "    }\n",
       "\n",
       "    .dataframe tbody tr th {\n",
       "        vertical-align: top;\n",
       "    }\n",
       "\n",
       "    .dataframe thead th {\n",
       "        text-align: right;\n",
       "    }\n",
       "</style>\n",
       "<table border=\"1\" class=\"dataframe\">\n",
       "  <thead>\n",
       "    <tr style=\"text-align: right;\">\n",
       "      <th></th>\n",
       "      <th>mixing_frequency_Hz</th>\n",
       "      <th>mixing_time_min</th>\n",
       "      <th>drying_time_hour</th>\n",
       "      <th>drying_temp_C</th>\n",
       "    </tr>\n",
       "  </thead>\n",
       "  <tbody>\n",
       "    <tr>\n",
       "      <th>0</th>\n",
       "      <td>39.23</td>\n",
       "      <td>39.225352</td>\n",
       "      <td>32.222222</td>\n",
       "      <td>20.0</td>\n",
       "    </tr>\n",
       "    <tr>\n",
       "      <th>1</th>\n",
       "      <td>39.23</td>\n",
       "      <td>39.225352</td>\n",
       "      <td>32.222222</td>\n",
       "      <td>20.0</td>\n",
       "    </tr>\n",
       "    <tr>\n",
       "      <th>2</th>\n",
       "      <td>39.23</td>\n",
       "      <td>39.225352</td>\n",
       "      <td>32.222222</td>\n",
       "      <td>20.0</td>\n",
       "    </tr>\n",
       "    <tr>\n",
       "      <th>3</th>\n",
       "      <td>39.23</td>\n",
       "      <td>39.225352</td>\n",
       "      <td>32.222222</td>\n",
       "      <td>20.0</td>\n",
       "    </tr>\n",
       "    <tr>\n",
       "      <th>4</th>\n",
       "      <td>39.23</td>\n",
       "      <td>39.225352</td>\n",
       "      <td>32.222222</td>\n",
       "      <td>20.0</td>\n",
       "    </tr>\n",
       "  </tbody>\n",
       "</table>\n",
       "</div>"
      ],
      "text/plain": [
       "   mixing_frequency_Hz  mixing_time_min  drying_time_hour  drying_temp_C\n",
       "0                39.23        39.225352         32.222222           20.0\n",
       "1                39.23        39.225352         32.222222           20.0\n",
       "2                39.23        39.225352         32.222222           20.0\n",
       "3                39.23        39.225352         32.222222           20.0\n",
       "4                39.23        39.225352         32.222222           20.0"
      ]
     },
     "execution_count": 335,
     "metadata": {},
     "output_type": "execute_result"
    }
   ],
   "source": [
    "# Создадим датафрейм, содержащий только числовые переменные\n",
    "df_numeric = df.select_dtypes(include=['float64', 'int64'])\n",
    "df_numeric.head()"
   ]
  },
  {
   "cell_type": "code",
   "execution_count": null,
   "metadata": {},
   "outputs": [
    {
     "data": {
      "text/html": [
       "<div>\n",
       "<style scoped>\n",
       "    .dataframe tbody tr th:only-of-type {\n",
       "        vertical-align: middle;\n",
       "    }\n",
       "\n",
       "    .dataframe tbody tr th {\n",
       "        vertical-align: top;\n",
       "    }\n",
       "\n",
       "    .dataframe thead th {\n",
       "        text-align: right;\n",
       "    }\n",
       "</style>\n",
       "<table border=\"1\" class=\"dataframe\">\n",
       "  <thead>\n",
       "    <tr style=\"text-align: right;\">\n",
       "      <th></th>\n",
       "      <th>mixing_frequency_Hz</th>\n",
       "      <th>mixing_time_min</th>\n",
       "      <th>drying_time_hour</th>\n",
       "      <th>drying_temp_C</th>\n",
       "    </tr>\n",
       "  </thead>\n",
       "  <tbody>\n",
       "    <tr>\n",
       "      <th>0</th>\n",
       "      <td>1.0</td>\n",
       "      <td>0.711268</td>\n",
       "      <td>0.132452</td>\n",
       "      <td>0.0</td>\n",
       "    </tr>\n",
       "    <tr>\n",
       "      <th>1</th>\n",
       "      <td>1.0</td>\n",
       "      <td>0.711268</td>\n",
       "      <td>0.132452</td>\n",
       "      <td>0.0</td>\n",
       "    </tr>\n",
       "    <tr>\n",
       "      <th>2</th>\n",
       "      <td>1.0</td>\n",
       "      <td>0.711268</td>\n",
       "      <td>0.132452</td>\n",
       "      <td>0.0</td>\n",
       "    </tr>\n",
       "    <tr>\n",
       "      <th>3</th>\n",
       "      <td>1.0</td>\n",
       "      <td>0.711268</td>\n",
       "      <td>0.132452</td>\n",
       "      <td>0.0</td>\n",
       "    </tr>\n",
       "    <tr>\n",
       "      <th>4</th>\n",
       "      <td>1.0</td>\n",
       "      <td>0.711268</td>\n",
       "      <td>0.132452</td>\n",
       "      <td>0.0</td>\n",
       "    </tr>\n",
       "  </tbody>\n",
       "</table>\n",
       "</div>"
      ],
      "text/plain": [
       "   mixing_frequency_Hz  mixing_time_min  drying_time_hour  drying_temp_C\n",
       "0                  1.0         0.711268          0.132452            0.0\n",
       "1                  1.0         0.711268          0.132452            0.0\n",
       "2                  1.0         0.711268          0.132452            0.0\n",
       "3                  1.0         0.711268          0.132452            0.0\n",
       "4                  1.0         0.711268          0.132452            0.0"
      ]
     },
     "execution_count": 336,
     "metadata": {},
     "output_type": "execute_result"
    }
   ],
   "source": [
    "from sklearn.preprocessing import MinMaxScaler\n",
    "sc = MinMaxScaler(feature_range=(0, 1)) # Создание экземпляра MinMaxScaler с заданным диапазоном\n",
    "\n",
    "df_numeric_sc = pd.DataFrame(sc.fit_transform(df_numeric), columns=df_numeric.columns) \n",
    "df_numeric_sc.head()"
   ]
  },
  {
   "cell_type": "code",
   "execution_count": null,
   "metadata": {},
   "outputs": [
    {
     "data": {
      "application/vnd.plotly.v1+json": {
       "config": {
        "plotlyServerURL": "https://plot.ly"
       },
       "data": [
        {
         "coloraxis": "coloraxis",
         "hovertemplate": "x: %{x}<br>y: %{y}<br>color: %{z}<extra></extra>",
         "name": "0",
         "type": "heatmap",
         "x": [
          "mixing_frequency_Hz",
          "mixing_time_min",
          "drying_time_hour",
          "drying_temp_C"
         ],
         "xaxis": "x",
         "y": [
          "mixing_frequency_Hz",
          "mixing_time_min",
          "drying_time_hour",
          "drying_temp_C"
         ],
         "yaxis": "y",
         "z": [
          [
           1,
           -0.7560414639224305,
           -0.004706623404855381,
           -0.13243427131397212
          ],
          [
           -0.7560414639224305,
           1,
           -1.0800102621700063e-16,
           -5.65985373249482e-19
          ],
          [
           -0.004706623404855381,
           -1.0800102621700063e-16,
           1,
           -0.3387512477140736
          ],
          [
           -0.13243427131397212,
           -5.65985373249482e-19,
           -0.3387512477140736,
           1
          ]
         ]
        }
       ],
       "layout": {
        "coloraxis": {
         "colorscale": [
          [
           0,
           "#082040"
          ],
          [
           0.25,
           "#175073"
          ],
          [
           0.5,
           "#3285A6"
          ],
          [
           0.75,
           "#B8D0D9"
          ],
          [
           1,
           "#6CC5D9"
          ]
         ]
        },
        "height": 600,
        "margin": {
         "t": 60
        },
        "template": {
         "data": {
          "bar": [
           {
            "error_x": {
             "color": "#2a3f5f"
            },
            "error_y": {
             "color": "#2a3f5f"
            },
            "marker": {
             "line": {
              "color": "#E5ECF6",
              "width": 0.5
             },
             "pattern": {
              "fillmode": "overlay",
              "size": 10,
              "solidity": 0.2
             }
            },
            "type": "bar"
           }
          ],
          "barpolar": [
           {
            "marker": {
             "line": {
              "color": "#E5ECF6",
              "width": 0.5
             },
             "pattern": {
              "fillmode": "overlay",
              "size": 10,
              "solidity": 0.2
             }
            },
            "type": "barpolar"
           }
          ],
          "carpet": [
           {
            "aaxis": {
             "endlinecolor": "#2a3f5f",
             "gridcolor": "white",
             "linecolor": "white",
             "minorgridcolor": "white",
             "startlinecolor": "#2a3f5f"
            },
            "baxis": {
             "endlinecolor": "#2a3f5f",
             "gridcolor": "white",
             "linecolor": "white",
             "minorgridcolor": "white",
             "startlinecolor": "#2a3f5f"
            },
            "type": "carpet"
           }
          ],
          "choropleth": [
           {
            "colorbar": {
             "outlinewidth": 0,
             "ticks": ""
            },
            "type": "choropleth"
           }
          ],
          "contour": [
           {
            "colorbar": {
             "outlinewidth": 0,
             "ticks": ""
            },
            "colorscale": [
             [
              0,
              "#0d0887"
             ],
             [
              0.1111111111111111,
              "#46039f"
             ],
             [
              0.2222222222222222,
              "#7201a8"
             ],
             [
              0.3333333333333333,
              "#9c179e"
             ],
             [
              0.4444444444444444,
              "#bd3786"
             ],
             [
              0.5555555555555556,
              "#d8576b"
             ],
             [
              0.6666666666666666,
              "#ed7953"
             ],
             [
              0.7777777777777778,
              "#fb9f3a"
             ],
             [
              0.8888888888888888,
              "#fdca26"
             ],
             [
              1,
              "#f0f921"
             ]
            ],
            "type": "contour"
           }
          ],
          "contourcarpet": [
           {
            "colorbar": {
             "outlinewidth": 0,
             "ticks": ""
            },
            "type": "contourcarpet"
           }
          ],
          "heatmap": [
           {
            "colorbar": {
             "outlinewidth": 0,
             "ticks": ""
            },
            "colorscale": [
             [
              0,
              "#0d0887"
             ],
             [
              0.1111111111111111,
              "#46039f"
             ],
             [
              0.2222222222222222,
              "#7201a8"
             ],
             [
              0.3333333333333333,
              "#9c179e"
             ],
             [
              0.4444444444444444,
              "#bd3786"
             ],
             [
              0.5555555555555556,
              "#d8576b"
             ],
             [
              0.6666666666666666,
              "#ed7953"
             ],
             [
              0.7777777777777778,
              "#fb9f3a"
             ],
             [
              0.8888888888888888,
              "#fdca26"
             ],
             [
              1,
              "#f0f921"
             ]
            ],
            "type": "heatmap"
           }
          ],
          "heatmapgl": [
           {
            "colorbar": {
             "outlinewidth": 0,
             "ticks": ""
            },
            "colorscale": [
             [
              0,
              "#0d0887"
             ],
             [
              0.1111111111111111,
              "#46039f"
             ],
             [
              0.2222222222222222,
              "#7201a8"
             ],
             [
              0.3333333333333333,
              "#9c179e"
             ],
             [
              0.4444444444444444,
              "#bd3786"
             ],
             [
              0.5555555555555556,
              "#d8576b"
             ],
             [
              0.6666666666666666,
              "#ed7953"
             ],
             [
              0.7777777777777778,
              "#fb9f3a"
             ],
             [
              0.8888888888888888,
              "#fdca26"
             ],
             [
              1,
              "#f0f921"
             ]
            ],
            "type": "heatmapgl"
           }
          ],
          "histogram": [
           {
            "marker": {
             "pattern": {
              "fillmode": "overlay",
              "size": 10,
              "solidity": 0.2
             }
            },
            "type": "histogram"
           }
          ],
          "histogram2d": [
           {
            "colorbar": {
             "outlinewidth": 0,
             "ticks": ""
            },
            "colorscale": [
             [
              0,
              "#0d0887"
             ],
             [
              0.1111111111111111,
              "#46039f"
             ],
             [
              0.2222222222222222,
              "#7201a8"
             ],
             [
              0.3333333333333333,
              "#9c179e"
             ],
             [
              0.4444444444444444,
              "#bd3786"
             ],
             [
              0.5555555555555556,
              "#d8576b"
             ],
             [
              0.6666666666666666,
              "#ed7953"
             ],
             [
              0.7777777777777778,
              "#fb9f3a"
             ],
             [
              0.8888888888888888,
              "#fdca26"
             ],
             [
              1,
              "#f0f921"
             ]
            ],
            "type": "histogram2d"
           }
          ],
          "histogram2dcontour": [
           {
            "colorbar": {
             "outlinewidth": 0,
             "ticks": ""
            },
            "colorscale": [
             [
              0,
              "#0d0887"
             ],
             [
              0.1111111111111111,
              "#46039f"
             ],
             [
              0.2222222222222222,
              "#7201a8"
             ],
             [
              0.3333333333333333,
              "#9c179e"
             ],
             [
              0.4444444444444444,
              "#bd3786"
             ],
             [
              0.5555555555555556,
              "#d8576b"
             ],
             [
              0.6666666666666666,
              "#ed7953"
             ],
             [
              0.7777777777777778,
              "#fb9f3a"
             ],
             [
              0.8888888888888888,
              "#fdca26"
             ],
             [
              1,
              "#f0f921"
             ]
            ],
            "type": "histogram2dcontour"
           }
          ],
          "mesh3d": [
           {
            "colorbar": {
             "outlinewidth": 0,
             "ticks": ""
            },
            "type": "mesh3d"
           }
          ],
          "parcoords": [
           {
            "line": {
             "colorbar": {
              "outlinewidth": 0,
              "ticks": ""
             }
            },
            "type": "parcoords"
           }
          ],
          "pie": [
           {
            "automargin": true,
            "type": "pie"
           }
          ],
          "scatter": [
           {
            "fillpattern": {
             "fillmode": "overlay",
             "size": 10,
             "solidity": 0.2
            },
            "type": "scatter"
           }
          ],
          "scatter3d": [
           {
            "line": {
             "colorbar": {
              "outlinewidth": 0,
              "ticks": ""
             }
            },
            "marker": {
             "colorbar": {
              "outlinewidth": 0,
              "ticks": ""
             }
            },
            "type": "scatter3d"
           }
          ],
          "scattercarpet": [
           {
            "marker": {
             "colorbar": {
              "outlinewidth": 0,
              "ticks": ""
             }
            },
            "type": "scattercarpet"
           }
          ],
          "scattergeo": [
           {
            "marker": {
             "colorbar": {
              "outlinewidth": 0,
              "ticks": ""
             }
            },
            "type": "scattergeo"
           }
          ],
          "scattergl": [
           {
            "marker": {
             "colorbar": {
              "outlinewidth": 0,
              "ticks": ""
             }
            },
            "type": "scattergl"
           }
          ],
          "scattermapbox": [
           {
            "marker": {
             "colorbar": {
              "outlinewidth": 0,
              "ticks": ""
             }
            },
            "type": "scattermapbox"
           }
          ],
          "scatterpolar": [
           {
            "marker": {
             "colorbar": {
              "outlinewidth": 0,
              "ticks": ""
             }
            },
            "type": "scatterpolar"
           }
          ],
          "scatterpolargl": [
           {
            "marker": {
             "colorbar": {
              "outlinewidth": 0,
              "ticks": ""
             }
            },
            "type": "scatterpolargl"
           }
          ],
          "scatterternary": [
           {
            "marker": {
             "colorbar": {
              "outlinewidth": 0,
              "ticks": ""
             }
            },
            "type": "scatterternary"
           }
          ],
          "surface": [
           {
            "colorbar": {
             "outlinewidth": 0,
             "ticks": ""
            },
            "colorscale": [
             [
              0,
              "#0d0887"
             ],
             [
              0.1111111111111111,
              "#46039f"
             ],
             [
              0.2222222222222222,
              "#7201a8"
             ],
             [
              0.3333333333333333,
              "#9c179e"
             ],
             [
              0.4444444444444444,
              "#bd3786"
             ],
             [
              0.5555555555555556,
              "#d8576b"
             ],
             [
              0.6666666666666666,
              "#ed7953"
             ],
             [
              0.7777777777777778,
              "#fb9f3a"
             ],
             [
              0.8888888888888888,
              "#fdca26"
             ],
             [
              1,
              "#f0f921"
             ]
            ],
            "type": "surface"
           }
          ],
          "table": [
           {
            "cells": {
             "fill": {
              "color": "#EBF0F8"
             },
             "line": {
              "color": "white"
             }
            },
            "header": {
             "fill": {
              "color": "#C8D4E3"
             },
             "line": {
              "color": "white"
             }
            },
            "type": "table"
           }
          ]
         },
         "layout": {
          "annotationdefaults": {
           "arrowcolor": "#2a3f5f",
           "arrowhead": 0,
           "arrowwidth": 1
          },
          "autotypenumbers": "strict",
          "coloraxis": {
           "colorbar": {
            "outlinewidth": 0,
            "ticks": ""
           }
          },
          "colorscale": {
           "diverging": [
            [
             0,
             "#8e0152"
            ],
            [
             0.1,
             "#c51b7d"
            ],
            [
             0.2,
             "#de77ae"
            ],
            [
             0.3,
             "#f1b6da"
            ],
            [
             0.4,
             "#fde0ef"
            ],
            [
             0.5,
             "#f7f7f7"
            ],
            [
             0.6,
             "#e6f5d0"
            ],
            [
             0.7,
             "#b8e186"
            ],
            [
             0.8,
             "#7fbc41"
            ],
            [
             0.9,
             "#4d9221"
            ],
            [
             1,
             "#276419"
            ]
           ],
           "sequential": [
            [
             0,
             "#0d0887"
            ],
            [
             0.1111111111111111,
             "#46039f"
            ],
            [
             0.2222222222222222,
             "#7201a8"
            ],
            [
             0.3333333333333333,
             "#9c179e"
            ],
            [
             0.4444444444444444,
             "#bd3786"
            ],
            [
             0.5555555555555556,
             "#d8576b"
            ],
            [
             0.6666666666666666,
             "#ed7953"
            ],
            [
             0.7777777777777778,
             "#fb9f3a"
            ],
            [
             0.8888888888888888,
             "#fdca26"
            ],
            [
             1,
             "#f0f921"
            ]
           ],
           "sequentialminus": [
            [
             0,
             "#0d0887"
            ],
            [
             0.1111111111111111,
             "#46039f"
            ],
            [
             0.2222222222222222,
             "#7201a8"
            ],
            [
             0.3333333333333333,
             "#9c179e"
            ],
            [
             0.4444444444444444,
             "#bd3786"
            ],
            [
             0.5555555555555556,
             "#d8576b"
            ],
            [
             0.6666666666666666,
             "#ed7953"
            ],
            [
             0.7777777777777778,
             "#fb9f3a"
            ],
            [
             0.8888888888888888,
             "#fdca26"
            ],
            [
             1,
             "#f0f921"
            ]
           ]
          },
          "colorway": [
           "#636efa",
           "#EF553B",
           "#00cc96",
           "#ab63fa",
           "#FFA15A",
           "#19d3f3",
           "#FF6692",
           "#B6E880",
           "#FF97FF",
           "#FECB52"
          ],
          "font": {
           "color": "#2a3f5f"
          },
          "geo": {
           "bgcolor": "white",
           "lakecolor": "white",
           "landcolor": "#E5ECF6",
           "showlakes": true,
           "showland": true,
           "subunitcolor": "white"
          },
          "hoverlabel": {
           "align": "left"
          },
          "hovermode": "closest",
          "mapbox": {
           "style": "light"
          },
          "paper_bgcolor": "white",
          "plot_bgcolor": "#E5ECF6",
          "polar": {
           "angularaxis": {
            "gridcolor": "white",
            "linecolor": "white",
            "ticks": ""
           },
           "bgcolor": "#E5ECF6",
           "radialaxis": {
            "gridcolor": "white",
            "linecolor": "white",
            "ticks": ""
           }
          },
          "scene": {
           "xaxis": {
            "backgroundcolor": "#E5ECF6",
            "gridcolor": "white",
            "gridwidth": 2,
            "linecolor": "white",
            "showbackground": true,
            "ticks": "",
            "zerolinecolor": "white"
           },
           "yaxis": {
            "backgroundcolor": "#E5ECF6",
            "gridcolor": "white",
            "gridwidth": 2,
            "linecolor": "white",
            "showbackground": true,
            "ticks": "",
            "zerolinecolor": "white"
           },
           "zaxis": {
            "backgroundcolor": "#E5ECF6",
            "gridcolor": "white",
            "gridwidth": 2,
            "linecolor": "white",
            "showbackground": true,
            "ticks": "",
            "zerolinecolor": "white"
           }
          },
          "shapedefaults": {
           "line": {
            "color": "#2a3f5f"
           }
          },
          "ternary": {
           "aaxis": {
            "gridcolor": "white",
            "linecolor": "white",
            "ticks": ""
           },
           "baxis": {
            "gridcolor": "white",
            "linecolor": "white",
            "ticks": ""
           },
           "bgcolor": "#E5ECF6",
           "caxis": {
            "gridcolor": "white",
            "linecolor": "white",
            "ticks": ""
           }
          },
          "title": {
           "x": 0.05
          },
          "xaxis": {
           "automargin": true,
           "gridcolor": "white",
           "linecolor": "white",
           "ticks": "",
           "title": {
            "standoff": 15
           },
           "zerolinecolor": "white",
           "zerolinewidth": 2
          },
          "yaxis": {
           "automargin": true,
           "gridcolor": "white",
           "linecolor": "white",
           "ticks": "",
           "title": {
            "standoff": 15
           },
           "zerolinecolor": "white",
           "zerolinewidth": 2
          }
         }
        },
        "width": 800,
        "xaxis": {
         "anchor": "y",
         "constrain": "domain",
         "domain": [
          0,
          1
         ],
         "scaleanchor": "y"
        },
        "yaxis": {
         "anchor": "x",
         "autorange": "reversed",
         "constrain": "domain",
         "domain": [
          0,
          1
         ]
        }
       }
      }
     },
     "metadata": {},
     "output_type": "display_data"
    }
   ],
   "source": [
    "# Создание heatmap с использованием Plotly Express\n",
    "fig = px.imshow(\n",
    "  df_numeric_sc.corr(),\n",
    "  color_continuous_scale=colors)\n",
    "\n",
    "fig.update_layout(\n",
    "    width=800,  \n",
    "    height=600  \n",
    ")\n",
    "\n",
    "fig.show()"
   ]
  },
  {
   "cell_type": "code",
   "execution_count": 41,
   "metadata": {},
   "outputs": [],
   "source": [
    "df.to_csv('lag_data_new.csv', index = False)"
   ]
  }
 ],
 "metadata": {
  "kernelspec": {
   "display_name": "Python 3",
   "language": "python",
   "name": "python3"
  },
  "language_info": {
   "codemirror_mode": {
    "name": "ipython",
    "version": 3
   },
   "file_extension": ".py",
   "mimetype": "text/x-python",
   "name": "python",
   "nbconvert_exporter": "python",
   "pygments_lexer": "ipython3",
   "version": "3.12.4"
  }
 },
 "nbformat": 4,
 "nbformat_minor": 2
}
